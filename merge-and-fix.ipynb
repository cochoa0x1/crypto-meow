{
 "cells": [
  {
   "cell_type": "code",
   "execution_count": 1,
   "metadata": {
    "collapsed": true
   },
   "outputs": [],
   "source": [
    "import os\n",
    "import json\n",
    "import pandas as pd"
   ]
  },
  {
   "cell_type": "code",
   "execution_count": 3,
   "metadata": {},
   "outputs": [
    {
     "name": "stdout",
     "output_type": "stream",
     "text": [
      "['final.csv']\n"
     ]
    }
   ],
   "source": [
    "#if we generated more than one csv with cattributes, glue them together\n",
    "files = [ f for f in os.listdir() if f.endswith('csv')]\n",
    "#files = ['final.csv']\n",
    "print(files)"
   ]
  },
  {
   "cell_type": "code",
   "execution_count": 293,
   "metadata": {},
   "outputs": [],
   "source": [
    "df = pd.concat([ pd.read_csv(f) for f in files])"
   ]
  },
  {
   "cell_type": "code",
   "execution_count": 295,
   "metadata": {},
   "outputs": [
    {
     "name": "stdout",
     "output_type": "stream",
     "text": [
      "104451\n"
     ]
    }
   ],
   "source": [
    "cols = ['id','name','image_url','bio','cattributes','is_fancy','color','source']\n",
    "df = df[cols]\n",
    "print(len(df))"
   ]
  },
  {
   "cell_type": "code",
   "execution_count": 296,
   "metadata": {
    "scrolled": false
   },
   "outputs": [],
   "source": [
    "df = df.drop_duplicates(subset='id')"
   ]
  },
  {
   "cell_type": "code",
   "execution_count": 297,
   "metadata": {},
   "outputs": [
    {
     "data": {
      "text/plain": [
       "104451"
      ]
     },
     "execution_count": 297,
     "metadata": {},
     "output_type": "execute_result"
    }
   ],
   "source": [
    "len(df)"
   ]
  },
  {
   "cell_type": "code",
   "execution_count": 270,
   "metadata": {
    "collapsed": true
   },
   "outputs": [],
   "source": [
    "#df.to_csv('merged.csv',index=False)"
   ]
  },
  {
   "cell_type": "code",
   "execution_count": 298,
   "metadata": {},
   "outputs": [],
   "source": [
    "df.color = df.color.replace('background-color:|;','',regex=True).apply(lambda x: str(x).strip())"
   ]
  },
  {
   "cell_type": "code",
   "execution_count": 299,
   "metadata": {},
   "outputs": [
    {
     "data": {
      "text/plain": [
       "#d1eeeb       11190\n",
       "#dfdffa        9412\n",
       "#fcdede        8913\n",
       "sizzurp        8808\n",
       "strawberry     8237\n",
       "#cdf5d4        7106\n",
       "topaz          6804\n",
       "mintgreen      6541\n",
       "#d9f5cc        5117\n",
       "#dfe0fa        4983\n",
       "#fcdedf        4747\n",
       "#efe1da        3858\n",
       "chestnut       3489\n",
       "#d9f5cb        2601\n",
       "limegreen      2423\n",
       "#efe1db        2052\n",
       "#eeeeee        1764\n",
       "#fadff4        1567\n",
       "bubblegum      1423\n",
       "#faf4cf        1157\n",
       "gold           1064\n",
       "#fbe0f4         775\n",
       "#faf5cf         420\n",
       "Name: color, dtype: int64"
      ]
     },
     "execution_count": 299,
     "metadata": {},
     "output_type": "execute_result"
    }
   ],
   "source": [
    "df.color.value_counts()"
   ]
  },
  {
   "cell_type": "code",
   "execution_count": 300,
   "metadata": {},
   "outputs": [],
   "source": [
    "df.loc[ df.image_url.apply(lambda x: str(x).endswith('png')) , 'is_fancy' ] = True\n",
    "df.loc[ df.image_url.apply(lambda x: str(x).endswith('svg')) , 'is_fancy' ] = False"
   ]
  },
  {
   "cell_type": "code",
   "execution_count": 301,
   "metadata": {},
   "outputs": [
    {
     "data": {
      "text/html": [
       "<div>\n",
       "<style>\n",
       "    .dataframe thead tr:only-child th {\n",
       "        text-align: right;\n",
       "    }\n",
       "\n",
       "    .dataframe thead th {\n",
       "        text-align: left;\n",
       "    }\n",
       "\n",
       "    .dataframe tbody tr th {\n",
       "        vertical-align: top;\n",
       "    }\n",
       "</style>\n",
       "<table border=\"1\" class=\"dataframe\">\n",
       "  <thead>\n",
       "    <tr style=\"text-align: right;\">\n",
       "      <th></th>\n",
       "      <th>id</th>\n",
       "      <th>name</th>\n",
       "      <th>image_url</th>\n",
       "      <th>bio</th>\n",
       "      <th>cattributes</th>\n",
       "      <th>is_fancy</th>\n",
       "      <th>color</th>\n",
       "      <th>source</th>\n",
       "    </tr>\n",
       "  </thead>\n",
       "  <tbody>\n",
       "    <tr>\n",
       "      <th>0</th>\n",
       "      <td>1</td>\n",
       "      <td>Genesis</td>\n",
       "      <td>https://storage.googleapis.com/ck-kitty-image/...</td>\n",
       "      <td>Greetings, human. I am Genesis. The dogs know ...</td>\n",
       "      <td>[]</td>\n",
       "      <td>True</td>\n",
       "      <td>sizzurp</td>\n",
       "      <td>https://api.cryptokitties.co/kitties</td>\n",
       "    </tr>\n",
       "    <tr>\n",
       "      <th>1</th>\n",
       "      <td>2</td>\n",
       "      <td>Riker | Founder Cat #2</td>\n",
       "      <td>https://storage.googleapis.com/ck-kitty-image/...</td>\n",
       "      <td>Hi-ya! I'm Riker | Founder Cat #2. I'm often r...</td>\n",
       "      <td>['orangesoda', 'kittencream', 'jaguar', 'simpl...</td>\n",
       "      <td>False</td>\n",
       "      <td>chestnut</td>\n",
       "      <td>https://api.cryptokitties.co/kitties</td>\n",
       "    </tr>\n",
       "    <tr>\n",
       "      <th>2</th>\n",
       "      <td>3</td>\n",
       "      <td>Founder Cat #3</td>\n",
       "      <td>https://storage.googleapis.com/ck-kitty-image/...</td>\n",
       "      <td>What's up! I'm Founder Cat #3. I'm a professio...</td>\n",
       "      <td>['orangesoda', 'jaguar', 'simple', 'strawberry...</td>\n",
       "      <td>False</td>\n",
       "      <td>strawberry</td>\n",
       "      <td>https://api.cryptokitties.co/kitties</td>\n",
       "    </tr>\n",
       "    <tr>\n",
       "      <th>3</th>\n",
       "      <td>4</td>\n",
       "      <td>Founder Cat #4</td>\n",
       "      <td>https://storage.googleapis.com/ck-kitty-image/...</td>\n",
       "      <td>Hey cutie! My name's Founder Cat #4. I once pe...</td>\n",
       "      <td>['orangesoda', 'jaguar', 'chestnut', 'ragamuff...</td>\n",
       "      <td>False</td>\n",
       "      <td>chestnut</td>\n",
       "      <td>https://api.cryptokitties.co/kitties</td>\n",
       "    </tr>\n",
       "    <tr>\n",
       "      <th>4</th>\n",
       "      <td>5</td>\n",
       "      <td>C-A-T-S Cats! Cats! Cats! - #5</td>\n",
       "      <td>https://storage.googleapis.com/ck-kitty-image/...</td>\n",
       "      <td>Hey cutie! I'm C-A-T-S Cats! Cats! Cats! - #5....</td>\n",
       "      <td>['orangesoda', 'jaguar', 'chestnut', 'ragamuff...</td>\n",
       "      <td>False</td>\n",
       "      <td>chestnut</td>\n",
       "      <td>https://api.cryptokitties.co/kitties</td>\n",
       "    </tr>\n",
       "  </tbody>\n",
       "</table>\n",
       "</div>"
      ],
      "text/plain": [
       "   id                            name  \\\n",
       "0   1                         Genesis   \n",
       "1   2          Riker | Founder Cat #2   \n",
       "2   3                  Founder Cat #3   \n",
       "3   4                  Founder Cat #4   \n",
       "4   5  C-A-T-S Cats! Cats! Cats! - #5   \n",
       "\n",
       "                                           image_url  \\\n",
       "0  https://storage.googleapis.com/ck-kitty-image/...   \n",
       "1  https://storage.googleapis.com/ck-kitty-image/...   \n",
       "2  https://storage.googleapis.com/ck-kitty-image/...   \n",
       "3  https://storage.googleapis.com/ck-kitty-image/...   \n",
       "4  https://storage.googleapis.com/ck-kitty-image/...   \n",
       "\n",
       "                                                 bio  \\\n",
       "0  Greetings, human. I am Genesis. The dogs know ...   \n",
       "1  Hi-ya! I'm Riker | Founder Cat #2. I'm often r...   \n",
       "2  What's up! I'm Founder Cat #3. I'm a professio...   \n",
       "3  Hey cutie! My name's Founder Cat #4. I once pe...   \n",
       "4  Hey cutie! I'm C-A-T-S Cats! Cats! Cats! - #5....   \n",
       "\n",
       "                                         cattributes is_fancy       color  \\\n",
       "0                                                 []     True     sizzurp   \n",
       "1  ['orangesoda', 'kittencream', 'jaguar', 'simpl...    False    chestnut   \n",
       "2  ['orangesoda', 'jaguar', 'simple', 'strawberry...    False  strawberry   \n",
       "3  ['orangesoda', 'jaguar', 'chestnut', 'ragamuff...    False    chestnut   \n",
       "4  ['orangesoda', 'jaguar', 'chestnut', 'ragamuff...    False    chestnut   \n",
       "\n",
       "                                 source  \n",
       "0  https://api.cryptokitties.co/kitties  \n",
       "1  https://api.cryptokitties.co/kitties  \n",
       "2  https://api.cryptokitties.co/kitties  \n",
       "3  https://api.cryptokitties.co/kitties  \n",
       "4  https://api.cryptokitties.co/kitties  "
      ]
     },
     "execution_count": 301,
     "metadata": {},
     "output_type": "execute_result"
    }
   ],
   "source": [
    "df.head()"
   ]
  },
  {
   "cell_type": "code",
   "execution_count": 302,
   "metadata": {
    "collapsed": true
   },
   "outputs": [],
   "source": [
    "df.loc[df.is_fancy==True,'cattributes'] = \"['is-fancy']\""
   ]
  },
  {
   "cell_type": "code",
   "execution_count": 303,
   "metadata": {},
   "outputs": [],
   "source": [
    "df.to_csv('final-clean.csv',index=False)"
   ]
  },
  {
   "cell_type": "code",
   "execution_count": null,
   "metadata": {
    "collapsed": true
   },
   "outputs": [],
   "source": []
  }
 ],
 "metadata": {
  "kernelspec": {
   "display_name": "Python 3",
   "language": "python",
   "name": "python3"
  },
  "language_info": {
   "codemirror_mode": {
    "name": "ipython",
    "version": 3
   },
   "file_extension": ".py",
   "mimetype": "text/x-python",
   "name": "python",
   "nbconvert_exporter": "python",
   "pygments_lexer": "ipython3",
   "version": "3.6.5"
  }
 },
 "nbformat": 4,
 "nbformat_minor": 2
}
