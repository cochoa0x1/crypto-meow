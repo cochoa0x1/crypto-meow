{
 "cells": [
  {
   "cell_type": "markdown",
   "metadata": {},
   "source": [
    "# Extract Kitten Data from blockchain\n",
    "\n",
    "### Setup.\n",
    "\n",
    "1. Install and sync an ethereum node such as Geth or Parity. I used Parity because it syncs very quickly. Using docker:\n",
    "\n",
    "    ```\n",
    "    docker pull parity/parity:stable\n",
    "    ```\n",
    "\n",
    "    run container, persist the stored data to ~/.local/share/io.parity.ethereum/ and map all the relevant ports. I think only the 8545 needs to be mapped but I have not tried. This is right out of the parity docker docs.\n",
    "\n",
    "    ```\n",
    "    docker run -ti -p 8180:8180 -p 8545:8545 -p 8546:8546 -p 30303:30303 -p 30303:30303/udp -v ~/.local/share/io.parity.ethereum/ docker/:/root/.local/share/io.parity.ethereum/ parity/parity:stable --base-path /root/.local/share/io.parity.ethereum/ --ui-interface all --jsonrpc-interface all\n",
    "    ```\n",
    "\n",
    "2. Setup web3.py, this is a python api that mimicks the javascript api for talking to the ethereum blockchain.\n",
    "\n",
    "    ```\n",
    "    pip install web3\n",
    "    ```\n",
    "\n",
    "3. Download the contract ABI, this is a json file that tells us how we can interact with the contract, you can get it from here https://etherscan.io/address/0x06012c8cf97bead5deae237070f9587f8e7a266d#code\n",
    "\n",
    "The node might take several hours to sync and the cryptokitties contract is at block 4.6million something. It took my computer on a fairly slow connection about 12 hours.\n"
   ]
  },
  {
   "cell_type": "code",
   "execution_count": 42,
   "metadata": {
    "collapsed": true
   },
   "outputs": [],
   "source": [
    "from web3 import Web3, HTTPProvider\n",
    "import json\n",
    "import pandas as pd\n",
    "from tqdm import tqdm"
   ]
  },
  {
   "cell_type": "code",
   "execution_count": 43,
   "metadata": {
    "collapsed": true
   },
   "outputs": [],
   "source": [
    "#connect to the local node\n",
    "web3 = Web3(HTTPProvider('http://localhost:8545'))"
   ]
  },
  {
   "cell_type": "code",
   "execution_count": 44,
   "metadata": {},
   "outputs": [
    {
     "data": {
      "text/plain": [
       "4688085"
      ]
     },
     "execution_count": 44,
     "metadata": {},
     "output_type": "execute_result"
    }
   ],
   "source": [
    "#how far have we synced?\n",
    "web3.eth.blockNumber"
   ]
  },
  {
   "cell_type": "code",
   "execution_count": 45,
   "metadata": {
    "collapsed": true
   },
   "outputs": [],
   "source": [
    "kitty_addr = '0x06012c8cf97BEaD5deAe237070F9587f8E7A266d'"
   ]
  },
  {
   "cell_type": "code",
   "execution_count": 46,
   "metadata": {
    "collapsed": true
   },
   "outputs": [],
   "source": [
    "with open('kitty_abi.json','r') as f:\n",
    "    kitty_abi = json.loads(f.read())"
   ]
  },
  {
   "cell_type": "code",
   "execution_count": 47,
   "metadata": {
    "collapsed": true
   },
   "outputs": [],
   "source": [
    "kitty_contract = web3.eth.contract(abi=kitty_abi, address=kitty_addr)"
   ]
  },
  {
   "cell_type": "code",
   "execution_count": 48,
   "metadata": {},
   "outputs": [
    {
     "name": "stdout",
     "output_type": "stream",
     "text": [
      "119072\n"
     ]
    }
   ],
   "source": [
    "num_kitties = kitty_contract.call().totalSupply()\n",
    "print(num_kitties)"
   ]
  },
  {
   "cell_type": "markdown",
   "metadata": {},
   "source": [
    "### Extract the data\n",
    "\n",
    "The contract exposes a function called getKitty( kitten_id), we can just call this over and over again for each kitten id. It is however very slow and there is probably a better way. It might take an hour or so.\n",
    "\n",
    "#### result from getKitty\n",
    "\n",
    "The getKitty function returns the following data (example)\n",
    "```\n",
    "0 isGestating   bool :  false\n",
    "1  isReady   bool :  true\n",
    "2  cooldownIndex   uint256 :  6\n",
    "3  nextActionAt   uint256 :  0\n",
    "4  siringWithId   uint256 :  0\n",
    "5  birthTime   uint256 :  1512092101\n",
    "6  matronId   uint256 :  16336\n",
    "7  sireId   uint256 :  15486\n",
    "8  generation   uint256 :  12\n",
    "9  genes   uint256 :  531881267885876605735019567258882137769398970896872218627788409434126733\n",
    "```"
   ]
  },
  {
   "cell_type": "code",
   "execution_count": 52,
   "metadata": {},
   "outputs": [
    {
     "name": "stdout",
     "output_type": "stream",
     "text": [
      "103148_to_119072_cats.csv  smaller_sample2.csv\n",
      "1_to_103147_cats.csv\t   smaller_sample.csv\n"
     ]
    }
   ],
   "source": [
    "!ls *.csv"
   ]
  },
  {
   "cell_type": "code",
   "execution_count": 50,
   "metadata": {},
   "outputs": [
    {
     "name": "stderr",
     "output_type": "stream",
     "text": [
      "100%|██████████| 15925/15925 [15:16<00:00, 17.38it/s]\n"
     ]
    }
   ],
   "source": [
    "cat_db=[]\n",
    "START = 0+1\n",
    "END = num_kitties+1\n",
    "\n",
    "for cat_id in tqdm(range(START,END)):\n",
    "    cat = kitty_contract.call().getKitty(cat_id)\n",
    "    cat[9] = str(cat[9])\n",
    "    cat_db.append([cat_id]+cat)"
   ]
  },
  {
   "cell_type": "code",
   "execution_count": 51,
   "metadata": {},
   "outputs": [
    {
     "data": {
      "text/html": [
       "<div>\n",
       "<style>\n",
       "    .dataframe thead tr:only-child th {\n",
       "        text-align: right;\n",
       "    }\n",
       "\n",
       "    .dataframe thead th {\n",
       "        text-align: left;\n",
       "    }\n",
       "\n",
       "    .dataframe tbody tr th {\n",
       "        vertical-align: top;\n",
       "    }\n",
       "</style>\n",
       "<table border=\"1\" class=\"dataframe\">\n",
       "  <thead>\n",
       "    <tr style=\"text-align: right;\">\n",
       "      <th></th>\n",
       "      <th>_id</th>\n",
       "      <th>is_gestating</th>\n",
       "      <th>is_ready</th>\n",
       "      <th>cooldown_index</th>\n",
       "      <th>next_action_at</th>\n",
       "      <th>siring_with_id</th>\n",
       "      <th>birth_time</th>\n",
       "      <th>matron_id</th>\n",
       "      <th>sire_id</th>\n",
       "      <th>generation</th>\n",
       "      <th>genes</th>\n",
       "    </tr>\n",
       "  </thead>\n",
       "  <tbody>\n",
       "    <tr>\n",
       "      <th>0</th>\n",
       "      <td>103148</td>\n",
       "      <td>False</td>\n",
       "      <td>True</td>\n",
       "      <td>3</td>\n",
       "      <td>4684158</td>\n",
       "      <td>0</td>\n",
       "      <td>1512534961</td>\n",
       "      <td>101482</td>\n",
       "      <td>100776</td>\n",
       "      <td>2</td>\n",
       "      <td>6216765256253898498647653478943414584391110774...</td>\n",
       "    </tr>\n",
       "    <tr>\n",
       "      <th>1</th>\n",
       "      <td>103149</td>\n",
       "      <td>False</td>\n",
       "      <td>True</td>\n",
       "      <td>5</td>\n",
       "      <td>4683790</td>\n",
       "      <td>0</td>\n",
       "      <td>1512534961</td>\n",
       "      <td>62300</td>\n",
       "      <td>49752</td>\n",
       "      <td>9</td>\n",
       "      <td>5111761325625045209208445116394741302184963640...</td>\n",
       "    </tr>\n",
       "    <tr>\n",
       "      <th>2</th>\n",
       "      <td>103150</td>\n",
       "      <td>False</td>\n",
       "      <td>True</td>\n",
       "      <td>6</td>\n",
       "      <td>4684185</td>\n",
       "      <td>0</td>\n",
       "      <td>1512534961</td>\n",
       "      <td>102466</td>\n",
       "      <td>100752</td>\n",
       "      <td>8</td>\n",
       "      <td>6285596844569006952754794083584465441832967318...</td>\n",
       "    </tr>\n",
       "    <tr>\n",
       "      <th>3</th>\n",
       "      <td>103151</td>\n",
       "      <td>False</td>\n",
       "      <td>True</td>\n",
       "      <td>8</td>\n",
       "      <td>0</td>\n",
       "      <td>0</td>\n",
       "      <td>1512534961</td>\n",
       "      <td>23215</td>\n",
       "      <td>28267</td>\n",
       "      <td>17</td>\n",
       "      <td>5164097337500594131134018293304447194756063914...</td>\n",
       "    </tr>\n",
       "    <tr>\n",
       "      <th>4</th>\n",
       "      <td>103152</td>\n",
       "      <td>False</td>\n",
       "      <td>True</td>\n",
       "      <td>3</td>\n",
       "      <td>0</td>\n",
       "      <td>0</td>\n",
       "      <td>1512534961</td>\n",
       "      <td>78266</td>\n",
       "      <td>37475</td>\n",
       "      <td>6</td>\n",
       "      <td>4630239810681127245802440597048180964650767225...</td>\n",
       "    </tr>\n",
       "  </tbody>\n",
       "</table>\n",
       "</div>"
      ],
      "text/plain": [
       "      _id  is_gestating  is_ready  cooldown_index  next_action_at  \\\n",
       "0  103148         False      True               3         4684158   \n",
       "1  103149         False      True               5         4683790   \n",
       "2  103150         False      True               6         4684185   \n",
       "3  103151         False      True               8               0   \n",
       "4  103152         False      True               3               0   \n",
       "\n",
       "   siring_with_id  birth_time  matron_id  sire_id  generation  \\\n",
       "0               0  1512534961     101482   100776           2   \n",
       "1               0  1512534961      62300    49752           9   \n",
       "2               0  1512534961     102466   100752           8   \n",
       "3               0  1512534961      23215    28267          17   \n",
       "4               0  1512534961      78266    37475           6   \n",
       "\n",
       "                                               genes  \n",
       "0  6216765256253898498647653478943414584391110774...  \n",
       "1  5111761325625045209208445116394741302184963640...  \n",
       "2  6285596844569006952754794083584465441832967318...  \n",
       "3  5164097337500594131134018293304447194756063914...  \n",
       "4  4630239810681127245802440597048180964650767225...  "
      ]
     },
     "execution_count": 51,
     "metadata": {},
     "output_type": "execute_result"
    }
   ],
   "source": [
    "columns=['_id','is_gestating','is_ready','cooldown_index','next_action_at',\n",
    "         'siring_with_id','birth_time','matron_id','sire_id','generation','genes']\n",
    "df=pd.DataFrame(cat_db, columns=columns)\n",
    "\n",
    "df.to_csv('%s_to_%s_cats.csv'%(df._id.min(),df._id.max()), index=False)\n",
    "\n",
    "df.head()"
   ]
  },
  {
   "cell_type": "code",
   "execution_count": null,
   "metadata": {
    "collapsed": true
   },
   "outputs": [],
   "source": []
  }
 ],
 "metadata": {
  "kernelspec": {
   "display_name": "Python 3",
   "language": "python",
   "name": "python3"
  },
  "language_info": {
   "codemirror_mode": {
    "name": "ipython",
    "version": 3
   },
   "file_extension": ".py",
   "mimetype": "text/x-python",
   "name": "python",
   "nbconvert_exporter": "python",
   "pygments_lexer": "ipython3",
   "version": "3.6.5"
  }
 },
 "nbformat": 4,
 "nbformat_minor": 2
}
